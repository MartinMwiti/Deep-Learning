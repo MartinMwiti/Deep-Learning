{
  "nbformat": 4,
  "nbformat_minor": 0,
  "metadata": {
    "colab": {
      "name": "RNN.ipynb",
      "provenance": [],
      "collapsed_sections": [],
      "toc_visible": true
    },
    "kernelspec": {
      "name": "python3",
      "display_name": "Python 3"
    },
    "accelerator": "GPU"
  },
  "cells": [
    {
      "cell_type": "markdown",
      "metadata": {
        "id": "Za31Lq3H-Wiu",
        "colab_type": "text"
      },
      "source": [
        "##**Part 1 - Data gathering and preprocessing**"
      ]
    },
    {
      "cell_type": "markdown",
      "metadata": {
        "id": "i8Oo0J1sHgiN",
        "colab_type": "text"
      },
      "source": [
        "###**Libraries**"
      ]
    },
    {
      "cell_type": "code",
      "metadata": {
        "id": "3mwF5bY7HXNZ",
        "colab_type": "code",
        "colab": {}
      },
      "source": [
        "import numpy as np\n",
        "import matplotlib.pyplot as plt\n",
        "import pandas as pd"
      ],
      "execution_count": 0,
      "outputs": []
    },
    {
      "cell_type": "markdown",
      "metadata": {
        "id": "2diqvH3GkMph",
        "colab_type": "text"
      },
      "source": [
        "\n",
        "\n",
        "```\n",
        "!cp /content/Google_Stock_Price_Test.csv drive/My\\ Drive/Colab\\ Notebooks\n",
        "!cp /content/Google_Stock_Price_Train.csv drive/My\\ Drive/Colab\\ Notebooks\n",
        "```\n",
        "\n"
      ]
    },
    {
      "cell_type": "code",
      "metadata": {
        "id": "SRq824zoK_0V",
        "colab_type": "code",
        "colab": {}
      },
      "source": [
        "# Importing the training set\n",
        "dataset_train = pd.read_csv('/content/drive/My Drive/Colab Notebooks/Google_Stock_Price_Train.csv')\n",
        "training_set = dataset_train.iloc[:, 1:2].values #open price columns"
      ],
      "execution_count": 0,
      "outputs": []
    },
    {
      "cell_type": "markdown",
      "metadata": {
        "id": "bIxxxXUjMklH",
        "colab_type": "text"
      },
      "source": [
        "###**Feature Scaling**"
      ]
    },
    {
      "cell_type": "code",
      "metadata": {
        "id": "UxWNsSEDL5jS",
        "colab_type": "code",
        "colab": {}
      },
      "source": [
        "from sklearn.preprocessing import MinMaxScaler\n",
        "sc = MinMaxScaler(feature_range = (0,1))\n",
        "train_data_scaled = sc.fit_transform(training_set)"
      ],
      "execution_count": 0,
      "outputs": []
    },
    {
      "cell_type": "code",
      "metadata": {
        "id": "DErtaTw7NKXc",
        "colab_type": "code",
        "colab": {}
      },
      "source": [
        "#creating a data structure with 60 timesteps and 1 output\n",
        "x_train = [] #60 timesteps\n",
        "y_train = [] #1 output to predict\n",
        "for i in range(60,len(train_data_scaled)):\n",
        "    x_train.append(train_data_scaled[i-60:i,0])\n",
        "    y_train.append(train_data_scaled[i,0])\n",
        "x_train, y_train = np.array(x_train), np.array(y_train)\n",
        "\n",
        "#reshaping\n",
        "x_train = np.reshape(x_train, (x_train.shape[0], x_train.shape[1], 1))"
      ],
      "execution_count": 0,
      "outputs": []
    },
    {
      "cell_type": "markdown",
      "metadata": {
        "id": "x7IS24Q2cIJb",
        "colab_type": "text"
      },
      "source": [
        ">**Input shape**3D tensor with shape (batch_size, timesteps, input_dim).\n",
        "\n",
        ">>**batch_size** = total number of records/rows=x_train.shape[0].\n",
        "\n",
        ">>**timesteps** = 60/total number of 'features'/columns=x_train.shape[1].\n",
        "\n",
        ">>**input_dim**= 1\n",
        "\n",
        ">We use np.reshape() to make the x_train fit the RNN Input shape requirement"
      ]
    },
    {
      "cell_type": "markdown",
      "metadata": {
        "id": "DszGMrZ19D_9",
        "colab_type": "text"
      },
      "source": [
        "##**Part 2 - Building the RNN**"
      ]
    },
    {
      "cell_type": "code",
      "metadata": {
        "id": "EyV6xd25PAaK",
        "colab_type": "code",
        "colab": {}
      },
      "source": [
        "#Importing the keras libraries and packages\n",
        "from keras.models import Sequential\n",
        "from keras.layers import Dense, LSTM, Dropout"
      ],
      "execution_count": 0,
      "outputs": []
    },
    {
      "cell_type": "code",
      "metadata": {
        "id": "GSufSExLPtTx",
        "colab_type": "code",
        "colab": {}
      },
      "source": [
        "#initialising the RNN\n",
        "regressor = Sequential()\n",
        "\n",
        "#Adding the first LSTM Layer and some Dropout regularisation\n",
        "regressor.add(LSTM(units=50, return_sequences=True, input_shape = (x_train.shape[1], 1)))\n",
        "regressor.add(Dropout(rate = 0.2))\n"
      ],
      "execution_count": 0,
      "outputs": []
    },
    {
      "cell_type": "code",
      "metadata": {
        "id": "nsOT87folwzS",
        "colab_type": "code",
        "colab": {
          "base_uri": "https://localhost:8080/",
          "height": 34
        },
        "outputId": "11af8a37-0685-4b81-f7fe-23a196982f71"
      },
      "source": [
        "x_train.shape[1]"
      ],
      "execution_count": 15,
      "outputs": [
        {
          "output_type": "execute_result",
          "data": {
            "text/plain": [
              "60"
            ]
          },
          "metadata": {
            "tags": []
          },
          "execution_count": 15
        }
      ]
    },
    {
      "cell_type": "code",
      "metadata": {
        "id": "YPZYCwSiRWRS",
        "colab_type": "code",
        "colab": {}
      },
      "source": [
        "#Adding the second LSTM Layer and some Dropout regularisation\n",
        "regressor.add(LSTM(units=50, return_sequences=True))\n",
        "regressor.add(Dropout(rate = 0.2))"
      ],
      "execution_count": 0,
      "outputs": []
    },
    {
      "cell_type": "code",
      "metadata": {
        "id": "REfQ6XAmRsfk",
        "colab_type": "code",
        "colab": {}
      },
      "source": [
        "#Adding the third LSTM Layer and some Dropout regularisation\n",
        "regressor.add(LSTM(units=50, return_sequences=True))\n",
        "regressor.add(Dropout(rate = 0.2))"
      ],
      "execution_count": 0,
      "outputs": []
    },
    {
      "cell_type": "code",
      "metadata": {
        "id": "fCUhQyneRxMM",
        "colab_type": "code",
        "colab": {}
      },
      "source": [
        "#Adding the fourth LSTM Layer and some Dropout regularisation\n",
        "regressor.add(LSTM(units=50))\n",
        "regressor.add(Dropout(rate = 0.2))"
      ],
      "execution_count": 0,
      "outputs": []
    },
    {
      "cell_type": "code",
      "metadata": {
        "id": "FWpB7oXpSZXU",
        "colab_type": "code",
        "colab": {}
      },
      "source": [
        "#Adding the output layer\n",
        "regressor.add(Dense(units=1))"
      ],
      "execution_count": 0,
      "outputs": []
    },
    {
      "cell_type": "code",
      "metadata": {
        "id": "3f7b65eOSiFu",
        "colab_type": "code",
        "colab": {
          "base_uri": "https://localhost:8080/",
          "height": 71
        },
        "outputId": "256e819f-be63-4ec7-a52b-9569c7c6d0cd"
      },
      "source": [
        "#compiling the RNN\n",
        "regressor.compile(optimizer='adam', loss='mean_squared_error')"
      ],
      "execution_count": 12,
      "outputs": [
        {
          "output_type": "stream",
          "text": [
            "WARNING:tensorflow:From /usr/local/lib/python3.6/dist-packages/keras/optimizers.py:793: The name tf.train.Optimizer is deprecated. Please use tf.compat.v1.train.Optimizer instead.\n",
            "\n"
          ],
          "name": "stdout"
        }
      ]
    },
    {
      "cell_type": "code",
      "metadata": {
        "id": "S-zYo1BpUFjq",
        "colab_type": "code",
        "outputId": "dd176d32-3961-4369-954e-2b5ce23d038a",
        "colab": {
          "base_uri": "https://localhost:8080/",
          "height": 1000
        }
      },
      "source": [
        "#fitting the RNN to the training set\n",
        "regressor.fit(x_train, y_train, epochs=50, batch_size = 32)"
      ],
      "execution_count": 21,
      "outputs": [
        {
          "output_type": "stream",
          "text": [
            "Epoch 1/50\n",
            "1198/1198 [==============================] - 18s 15ms/step - loss: 0.0037\n",
            "Epoch 2/50\n",
            "1198/1198 [==============================] - 17s 14ms/step - loss: 0.0037\n",
            "Epoch 3/50\n",
            "1198/1198 [==============================] - 17s 15ms/step - loss: 0.0033\n",
            "Epoch 4/50\n",
            "1198/1198 [==============================] - 18s 15ms/step - loss: 0.0032\n",
            "Epoch 5/50\n",
            "1198/1198 [==============================] - 18s 15ms/step - loss: 0.0034\n",
            "Epoch 6/50\n",
            "1198/1198 [==============================] - 18s 15ms/step - loss: 0.0032\n",
            "Epoch 7/50\n",
            "1198/1198 [==============================] - 18s 15ms/step - loss: 0.0033\n",
            "Epoch 8/50\n",
            "1198/1198 [==============================] - 18s 15ms/step - loss: 0.0030\n",
            "Epoch 9/50\n",
            "1198/1198 [==============================] - 18s 15ms/step - loss: 0.0029\n",
            "Epoch 10/50\n",
            "1198/1198 [==============================] - 18s 15ms/step - loss: 0.0030\n",
            "Epoch 11/50\n",
            "1198/1198 [==============================] - 18s 15ms/step - loss: 0.0030\n",
            "Epoch 12/50\n",
            "1198/1198 [==============================] - 18s 15ms/step - loss: 0.0031\n",
            "Epoch 13/50\n",
            "1198/1198 [==============================] - 18s 15ms/step - loss: 0.0030\n",
            "Epoch 14/50\n",
            "1198/1198 [==============================] - 18s 15ms/step - loss: 0.0030\n",
            "Epoch 15/50\n",
            "1198/1198 [==============================] - 18s 15ms/step - loss: 0.0030\n",
            "Epoch 16/50\n",
            "1198/1198 [==============================] - 18s 15ms/step - loss: 0.0031\n",
            "Epoch 17/50\n",
            "1198/1198 [==============================] - 18s 15ms/step - loss: 0.0027\n",
            "Epoch 18/50\n",
            "1198/1198 [==============================] - 18s 15ms/step - loss: 0.0027\n",
            "Epoch 19/50\n",
            "1198/1198 [==============================] - 18s 15ms/step - loss: 0.0027\n",
            "Epoch 20/50\n",
            "1198/1198 [==============================] - 18s 15ms/step - loss: 0.0031\n",
            "Epoch 21/50\n",
            "1198/1198 [==============================] - 18s 15ms/step - loss: 0.0026\n",
            "Epoch 22/50\n",
            "1198/1198 [==============================] - 18s 15ms/step - loss: 0.0026\n",
            "Epoch 23/50\n",
            "1198/1198 [==============================] - 18s 15ms/step - loss: 0.0025\n",
            "Epoch 24/50\n",
            "1198/1198 [==============================] - 17s 15ms/step - loss: 0.0024\n",
            "Epoch 25/50\n",
            "1198/1198 [==============================] - 17s 15ms/step - loss: 0.0024\n",
            "Epoch 26/50\n",
            "1198/1198 [==============================] - 18s 15ms/step - loss: 0.0024\n",
            "Epoch 27/50\n",
            "1198/1198 [==============================] - 18s 15ms/step - loss: 0.0023\n",
            "Epoch 28/50\n",
            "1198/1198 [==============================] - 18s 15ms/step - loss: 0.0026\n",
            "Epoch 29/50\n",
            "1198/1198 [==============================] - 18s 15ms/step - loss: 0.0029\n",
            "Epoch 30/50\n",
            "1198/1198 [==============================] - 18s 15ms/step - loss: 0.0027\n",
            "Epoch 31/50\n",
            "1198/1198 [==============================] - 18s 15ms/step - loss: 0.0024\n",
            "Epoch 32/50\n",
            "1198/1198 [==============================] - 18s 15ms/step - loss: 0.0024\n",
            "Epoch 33/50\n",
            "1198/1198 [==============================] - 18s 15ms/step - loss: 0.0021\n",
            "Epoch 34/50\n",
            "1198/1198 [==============================] - 18s 15ms/step - loss: 0.0022\n",
            "Epoch 35/50\n",
            "1198/1198 [==============================] - 18s 15ms/step - loss: 0.0024\n",
            "Epoch 36/50\n",
            "1198/1198 [==============================] - 18s 15ms/step - loss: 0.0027\n",
            "Epoch 37/50\n",
            "1198/1198 [==============================] - 18s 15ms/step - loss: 0.0028\n",
            "Epoch 38/50\n",
            "1198/1198 [==============================] - 18s 15ms/step - loss: 0.0025\n",
            "Epoch 39/50\n",
            "1198/1198 [==============================] - 18s 15ms/step - loss: 0.0019\n",
            "Epoch 40/50\n",
            "1198/1198 [==============================] - 18s 15ms/step - loss: 0.0021\n",
            "Epoch 41/50\n",
            "1198/1198 [==============================] - 18s 15ms/step - loss: 0.0020\n",
            "Epoch 42/50\n",
            "1198/1198 [==============================] - 18s 15ms/step - loss: 0.0020\n",
            "Epoch 43/50\n",
            "1198/1198 [==============================] - 18s 15ms/step - loss: 0.0021\n",
            "Epoch 44/50\n",
            "1198/1198 [==============================] - 18s 15ms/step - loss: 0.0021\n",
            "Epoch 45/50\n",
            "1198/1198 [==============================] - 18s 15ms/step - loss: 0.0020\n",
            "Epoch 46/50\n",
            "1198/1198 [==============================] - 18s 15ms/step - loss: 0.0021\n",
            "Epoch 47/50\n",
            "1198/1198 [==============================] - 18s 15ms/step - loss: 0.0021\n",
            "Epoch 48/50\n",
            "1198/1198 [==============================] - 18s 15ms/step - loss: 0.0018\n",
            "Epoch 49/50\n",
            "1198/1198 [==============================] - 18s 15ms/step - loss: 0.0018\n",
            "Epoch 50/50\n",
            "1198/1198 [==============================] - 18s 15ms/step - loss: 0.0019\n"
          ],
          "name": "stdout"
        },
        {
          "output_type": "execute_result",
          "data": {
            "text/plain": [
              "<keras.callbacks.History at 0x7f174b7514a8>"
            ]
          },
          "metadata": {
            "tags": []
          },
          "execution_count": 21
        }
      ]
    },
    {
      "cell_type": "markdown",
      "metadata": {
        "id": "meqTUvfK0z_H",
        "colab_type": "text"
      },
      "source": [
        "###**Save the model**"
      ]
    },
    {
      "cell_type": "code",
      "metadata": {
        "id": "gIShlC1d04Wm",
        "colab_type": "code",
        "colab": {}
      },
      "source": [
        "regressor = regressor.save(\"regressor.h5\")"
      ],
      "execution_count": 0,
      "outputs": []
    },
    {
      "cell_type": "markdown",
      "metadata": {
        "id": "h6LHCEnQ1Nlt",
        "colab_type": "text"
      },
      "source": [
        "###**Load the model**"
      ]
    },
    {
      "cell_type": "code",
      "metadata": {
        "id": "RwCAoHOP1Ro2",
        "colab_type": "code",
        "colab": {}
      },
      "source": [
        "from keras.models import load_model\n",
        "\n",
        "regressor = load_model(\"regressor.h5\")"
      ],
      "execution_count": 0,
      "outputs": []
    },
    {
      "cell_type": "markdown",
      "metadata": {
        "id": "G3hhJNj6-0jn",
        "colab_type": "text"
      },
      "source": [
        "## **Part 3 - Making the predictions and visualising the results**"
      ]
    },
    {
      "cell_type": "code",
      "metadata": {
        "id": "HO7K1y9LWhvg",
        "colab_type": "code",
        "colab": {}
      },
      "source": [
        "# Getting the real stock price of 2017\n",
        "dataset_test = pd.read_csv('/content/drive/My Drive/Colab Notebooks/Google_Stock_Price_Test.csv')\n",
        "real_stock_price = dataset_test.iloc[:, 1:2].values"
      ],
      "execution_count": 0,
      "outputs": []
    },
    {
      "cell_type": "code",
      "metadata": {
        "id": "iGLoRONZnJeE",
        "colab_type": "code",
        "colab": {}
      },
      "source": [
        "dataset_total = pd.concat((dataset_train['Open'], dataset_test['Open']), axis = 0)\n",
        "inputs = dataset_total[len(dataset_total) - len(dataset_test) - 60:].values\n",
        "inputs = inputs.reshape(-1,1)\n",
        "inputs = sc.transform(inputs)"
      ],
      "execution_count": 0,
      "outputs": []
    },
    {
      "cell_type": "code",
      "metadata": {
        "id": "1IviYi7snrG7",
        "colab_type": "code",
        "colab": {}
      },
      "source": [
        "X_test = []\n",
        "for i in range(60, 80): #80 because we're predicting 20 records\n",
        "    X_test.append(inputs[i-60:i, 0])\n",
        "X_test = np.array(X_test)\n",
        "X_test = np.reshape(X_test, (X_test.shape[0], X_test.shape[1], 1))\n"
      ],
      "execution_count": 0,
      "outputs": []
    },
    {
      "cell_type": "code",
      "metadata": {
        "id": "74yJv-IyoHaW",
        "colab_type": "code",
        "colab": {}
      },
      "source": [
        "predicted_stock_price = regressor.predict(X_test)\n",
        "predicted_stock_price = sc.inverse_transform(predicted_stock_price) #retranform the output because our input data was scaled between 0 and 1."
      ],
      "execution_count": 0,
      "outputs": []
    },
    {
      "cell_type": "code",
      "metadata": {
        "id": "pPvmOwSdoP9j",
        "colab_type": "code",
        "colab": {
          "base_uri": "https://localhost:8080/",
          "height": 295
        },
        "outputId": "4741406a-fb76-4c44-df24-19ddb20e3687"
      },
      "source": [
        "# Visualising the results\n",
        "plt.plot(real_stock_price, color = 'red', label = 'Real Google Stock Price')\n",
        "plt.plot(predicted_stock_price, color = 'blue', label = 'Predicted Google Stock Price')\n",
        "plt.title('Google Stock Price Prediction')\n",
        "plt.xlabel('Time')\n",
        "plt.ylabel('Google Stock Price')\n",
        "plt.legend()\n",
        "plt.show()"
      ],
      "execution_count": 29,
      "outputs": [
        {
          "output_type": "display_data",
          "data": {
            "image/png": "[encoded data removed]",
            "text/plain": [
              "<Figure size 432x288 with 1 Axes>"
            ]
          },
          "metadata": {
            "tags": []
          }
        }
      ]
    }
  ]
}